{
  "nbformat": 4,
  "nbformat_minor": 0,
  "metadata": {
    "colab": {
      "name": "Analisis Algoritmo S3",
      "provenance": []
    },
    "kernelspec": {
      "name": "python3",
      "display_name": "Python 3"
    }
  },
  "cells": [
    {
      "cell_type": "markdown",
      "metadata": {
        "id": "uB5J33yRiqS_"
      },
      "source": [
        "## **Master Theorem**\n",
        "\n",
        "https://www.programiz.com/dsa/master-theorem\n",
        "\n",
        "https://www.wolframalpha.com/"
      ]
    },
    {
      "cell_type": "markdown",
      "metadata": {
        "id": "FgytBiayjNDO"
      },
      "source": [
        "**T(n) = a*T(n/b) + f(n)**\n",
        "\n",
        "n = tamaño de la entrada \n",
        "\n",
        "a = número de subproblemas en la recursividad (veces que se llama a si misma )\n",
        "\n",
        "n / b = tamaño de cada subproblema. Se asumen todos los subproblemas tener el mismo tamaño. (como se divide la fraccion del problema)\n",
        "\n",
        "f (n) = costo del trabajo realizado fuera de la llamada recursiva, que incluye el costo de dividir el problema y costo de fusionar las soluciones.\n",
        "\n",
        "Aquí, a ≥ 1 y b> 1 son constantes, y f (n) es una función asintóticamente positiva.\n",
        "\n",
        "1. If f(n) = O(nlogb a-ϵ), then T(n) = Θ(nlogb a).\n",
        "\n",
        "2. If f(n) = Θ(nlogb a), then T(n) = Θ(nlogb a * log n).\n",
        "\n",
        "3. If f(n) = Ω(nlogb a+ϵ), then T(n) = Θ(f(n)).\n",
        "\n",
        "ϵ > 0 es una constante\n"
      ]
    },
    {
      "cell_type": "code",
      "metadata": {
        "id": "VYe9QiGHCFkD",
        "outputId": "d2ab9239-d28b-44bf-b2da-a04634d15fda",
        "colab": {
          "base_uri": "https://localhost:8080/"
        }
      },
      "source": [
        "import numpy as np\n",
        "\n",
        "precios = np.array((10,8,20,50,44,32,5,4,90,73,82,51,17,15,13,28,99,38,69,25,11,9,47,98,77,33,58,24,15,54))\n",
        "total=0\n",
        "descuentos = []\n",
        "for x in precios:\n",
        "  actual = np.where(precios==x)\n",
        "  if not x in descuentos:\n",
        "    for y in precios[actual[0][0]:]:\n",
        "      actual_y = np.where(precios==y)\n",
        "      if y != precios[actual[0][0]] and y < x:\n",
        "        if not y in descuentos:\n",
        "          descuentos = np.append(descuentos,precios[actual_y[0][0]])\n",
        "          total = precios[actual[0][0]] + total\n",
        "          break\n",
        "\n",
        "print(\"\\nTotal: \", total)"
      ],
      "execution_count": null,
      "outputs": [
        {
          "output_type": "stream",
          "text": [
            "\n",
            "Total:  713\n"
          ],
          "name": "stdout"
        }
      ]
    },
    {
      "cell_type": "code",
      "metadata": {
        "id": "4hbDvA4CJERv",
        "outputId": "e61350bd-7f29-4f47-a796-87db097a158f",
        "colab": {
          "base_uri": "https://localhost:8080/"
        }
      },
      "source": [
        "import numpy as np\n",
        "precios = np.array((10,8,20,50,44,32,5,4,90,73,82,51,17,15,13,28,99,38,69,25,11,9,47,98,77,33,58,24,15,54))\n",
        "precios=  sorted(precios, reverse=True)\n",
        "total=0\n",
        "desc=0;\n",
        "for pr in precios:\n",
        "  if desc == 0:\n",
        "    total = total+pr\n",
        "    desc = 1\n",
        "  else:\n",
        "    desc = 0 \n",
        "\n",
        "print(\"Total: \" ,total)"
      ],
      "execution_count": null,
      "outputs": [
        {
          "output_type": "stream",
          "text": [
            "Total:  625\n"
          ],
          "name": "stdout"
        }
      ]
    },
    {
      "cell_type": "markdown",
      "metadata": {
        "id": "8sXDA1I-J1iu"
      },
      "source": [
        "**Punto Cercanos Natural**"
      ]
    },
    {
      "cell_type": "markdown",
      "metadata": {
        "id": "t6GtKQC-2Ui1"
      },
      "source": [
        "Formula de puntos cercanos"
      ]
    },
    {
      "cell_type": "code",
      "metadata": {
        "id": "ZgMGQkXFM7Ui",
        "outputId": "e93d558b-0551-4066-8071-22d500cc85b8",
        "colab": {
          "base_uri": "https://localhost:8080/"
        }
      },
      "source": [
        "result1 = np.sqrt((2-0)**2+(5-1)**2)\n",
        "print(result1)\n",
        "result2 = np.sqrt((1-0)**2+(2-1)**2)\n",
        "print(result2)"
      ],
      "execution_count": null,
      "outputs": [
        {
          "output_type": "stream",
          "text": [
            "1.4142135623730951\n",
            "1.4142135623730951\n"
          ],
          "name": "stdout"
        }
      ]
    },
    {
      "cell_type": "code",
      "metadata": {
        "id": "cB5482z_KCZQ",
        "outputId": "c242a371-e394-4e2f-8278-9b1feb626c07",
        "colab": {
          "base_uri": "https://localhost:8080/"
        }
      },
      "source": [
        "import numpy as np\n",
        "import math\n",
        " \n",
        "def nearPoints(lista):\n",
        "  nearPoint = 0\n",
        "  for x in lista:\n",
        "    cont = 0\n",
        "    tmp = 0\n",
        "    for y in lista:\n",
        "      if x != y:\n",
        "        result = np.sqrt((x[0] - y[0])**2 + (x[1] - y[1])**2)\n",
        "        if tmp == 0:\n",
        "          tmp = result\n",
        "          nearPoint = cont\n",
        "        if result < tmp:\n",
        "          tmp = result\n",
        "          nearPoint = cont\n",
        "      cont = cont + 1\n",
        "\n",
        "    print(\"Punto cercano de:\",x, \"es:\", lista[nearPoint])\n",
        "\n",
        "points = [(0,1),(1,3),(2,6),(6,7),(9,8),(10,8),(20,12),(25,20)]\n",
        "nums = [(0,1),(1,2),(2,5),(5,8),(10,10)]\n",
        "nearPoints(points)"
      ],
      "execution_count": 7,
      "outputs": [
        {
          "output_type": "stream",
          "text": [
            "Punto cercano de: (0, 1) es: (1, 3)\n",
            "Punto cercano de: (1, 3) es: (0, 1)\n",
            "Punto cercano de: (2, 6) es: (1, 3)\n",
            "Punto cercano de: (6, 7) es: (9, 8)\n",
            "Punto cercano de: (9, 8) es: (10, 8)\n",
            "Punto cercano de: (10, 8) es: (9, 8)\n",
            "Punto cercano de: (20, 12) es: (25, 20)\n",
            "Punto cercano de: (25, 20) es: (20, 12)\n"
          ],
          "name": "stdout"
        }
      ]
    },
    {
      "cell_type": "markdown",
      "metadata": {
        "id": "LmRiOajZ-1V_"
      },
      "source": [
        "**Puntos Cercanos**\n",
        "\n",
        "Divide y venceras\n"
      ]
    },
    {
      "cell_type": "code",
      "metadata": {
        "id": "RgwNdyFa-1DP",
        "outputId": "5e542563-aaf3-4795-9e3b-eaea340b5f0b",
        "colab": {
          "base_uri": "https://localhost:8080/"
        }
      },
      "source": [
        "def divNearPoints(lista, sl, sr):\n",
        "  if sl == sr:\n",
        "    return [lista[sl]]\n",
        "  if sl+1 == sr:\n",
        "    return [lista[sl],lista[sr]]\n",
        "  else:\n",
        "    dividir = math.ceil((sl + sr) / 2)\n",
        "    l1 = divNearPoints(lista, sl, dividir)\n",
        "    l2 = divNearPoints(lista, dividir+1, sr)\n",
        "    if l1 != None and l2 != None:\n",
        "      nearPoints(l1+l2)\n",
        "    else:\n",
        "      if l1 != None:\n",
        "        nearPoints(l1)\n",
        "      else:\n",
        "        nearPoints(l2)\n",
        "\n",
        "points = [(0,1),(1,3),(2,6),(10,8),(20,12),(25,20)]\n",
        "sortedPoins = sorted(points)\n",
        "print(sortedPoins)\n",
        "divNearPoints(sortedPoins,0,len(points)-1)"
      ],
      "execution_count": 2,
      "outputs": [
        {
          "output_type": "stream",
          "text": [
            "[(0, 1), (1, 3), (2, 6), (10, 8), (20, 12), (25, 20)]\n",
            "Punto cercano de: (0, 1) es: (1, 3)\n",
            "Punto cercano de: (1, 3) es: (0, 1)\n",
            "Punto cercano de: (2, 6) es: (1, 3)\n",
            "Punto cercano de: (10, 8) es: (10, 8)\n",
            "Punto cercano de: (20, 12) es: (25, 20)\n",
            "Punto cercano de: (25, 20) es: (20, 12)\n"
          ],
          "name": "stdout"
        }
      ]
    },
    {
      "cell_type": "code",
      "metadata": {
        "id": "KULb8-NnPFwZ",
        "outputId": "dbaa3a3a-f66d-42ba-9eba-5c879795bbd7",
        "colab": {
          "base_uri": "https://localhost:8080/",
          "height": 417
        }
      },
      "source": [
        "import matplotlib.pyplot as plt\n",
        "from matplotlib.pyplot import figure\n",
        "figure(num=None, figsize=(8, 6), dpi=80, facecolor='w', edgecolor='k')\n",
        "plt.ylabel('Puntos Cercanos')\n",
        "plt.plot([0, 1, 2, 10, 20, 25], [1, 3, 6, 8, 12, 20], 'ro')\n",
        "plt.axis([0, 25, 0, 25])\n",
        "plt.show()"
      ],
      "execution_count": null,
      "outputs": [
        {
          "output_type": "display_data",
          "data": {
            "image/png": "[encoded data removed]",
            "text/plain": [
              "<Figure size 640x480 with 1 Axes>"
            ]
          },
          "metadata": {
            "tags": []
          }
        }
      ]
    }
  ]
}